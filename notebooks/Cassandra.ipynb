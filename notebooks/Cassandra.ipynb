{
 "cells": [
  {
   "cell_type": "markdown",
   "id": "715dceb8-0831-449e-8652-ddf2a8a513f5",
   "metadata": {},
   "source": [
    "# Cassandra First\n",
    "This notebook shows, how we can access Cassandra with Python"
   ]
  },
  {
   "cell_type": "code",
   "execution_count": 1,
   "id": "f93510a4-f0ea-4cf8-bed9-53a0ca2755c7",
   "metadata": {},
   "outputs": [
    {
     "data": {
      "text/plain": [
       "<cassandra.cluster.ResultSet at 0x7f2ee9b24e20>"
      ]
     },
     "execution_count": 1,
     "metadata": {},
     "output_type": "execute_result"
    }
   ],
   "source": [
    "# Connect to Cassandra Cluster - and keyspace\n",
    "from cassandra.cluster import Cluster\n",
    "cluster = Cluster (['localhost'],port=9042)\n",
    "from cassandra.query import named_tuple_factory\n",
    "session = cluster.connect('words',wait_for_all_pools=True)\n",
    "# insert two rows \n",
    "session.execute(\"insert into worte (wort, anz) values ('hello', 47)\")\n",
    "session.execute(\"insert into worte (wort, anz) values ('world', 11)\")\n"
   ]
  },
  {
   "cell_type": "code",
   "execution_count": 2,
   "id": "837ab422-d2ec-4a1c-8650-5fd5044c5f7c",
   "metadata": {},
   "outputs": [
    {
     "data": {
      "text/plain": [
       "['hello', 47]"
      ]
     },
     "execution_count": 2,
     "metadata": {},
     "output_type": "execute_result"
    }
   ],
   "source": [
    "# select some rows\n",
    "rows = session.execute('select * from  worte')\n",
    "list(rows.one())"
   ]
  },
  {
   "cell_type": "markdown",
   "id": "10a05147-c29b-404d-a2ca-ccbaf32ed3ee",
   "metadata": {},
   "source": [
    "### Read all rows and create a bar plot with pandas"
   ]
  },
  {
   "cell_type": "code",
   "execution_count": 3,
   "id": "e323d89d-4016-4392-8c58-30813ff2d3f5",
   "metadata": {},
   "outputs": [
    {
     "data": {
      "text/html": [
       "<div>\n",
       "<style scoped>\n",
       "    .dataframe tbody tr th:only-of-type {\n",
       "        vertical-align: middle;\n",
       "    }\n",
       "\n",
       "    .dataframe tbody tr th {\n",
       "        vertical-align: top;\n",
       "    }\n",
       "\n",
       "    .dataframe thead th {\n",
       "        text-align: right;\n",
       "    }\n",
       "</style>\n",
       "<table border=\"1\" class=\"dataframe\">\n",
       "  <thead>\n",
       "    <tr style=\"text-align: right;\">\n",
       "      <th></th>\n",
       "      <th>wort</th>\n",
       "      <th>anzahl</th>\n",
       "    </tr>\n",
       "  </thead>\n",
       "  <tbody>\n",
       "    <tr>\n",
       "      <th>0</th>\n",
       "      <td>hello</td>\n",
       "      <td>47</td>\n",
       "    </tr>\n",
       "    <tr>\n",
       "      <th>1</th>\n",
       "      <td>world</td>\n",
       "      <td>11</td>\n",
       "    </tr>\n",
       "  </tbody>\n",
       "</table>\n",
       "</div>"
      ],
      "text/plain": [
       "    wort  anzahl\n",
       "0  hello      47\n",
       "1  world      11"
      ]
     },
     "execution_count": 3,
     "metadata": {},
     "output_type": "execute_result"
    }
   ],
   "source": [
    "import pandas as pd\n",
    "liste = []\n",
    "df = pd.DataFrame()\n",
    "\n",
    "rows = session.execute('select * from  worte')\n",
    "\n",
    "for row in rows:\n",
    "    liste.append([row[0], row[1]])\n",
    "df = pd.DataFrame(liste, columns = ['wort', 'anzahl'])\n",
    "\n",
    "df"
   ]
  },
  {
   "cell_type": "code",
   "execution_count": 4,
   "id": "e7b8081f-6d13-4566-b143-2309b8f89c0d",
   "metadata": {},
   "outputs": [
    {
     "data": {
      "text/plain": [
       "<Axes: xlabel='wort'>"
      ]
     },
     "execution_count": 4,
     "metadata": {},
     "output_type": "execute_result"
    },
    {
     "data": {
      "image/png": "[encoded data removed]",
      "text/plain": [
       "<Figure size 640x480 with 1 Axes>"
      ]
     },
     "metadata": {},
     "output_type": "display_data"
    }
   ],
   "source": [
    "df.plot.bar(x='wort', y='anzahl')\n",
    "# More examples here : https://www.statology.org/pandas-plot-index/"
   ]
  },
  {
   "cell_type": "code",
   "execution_count": null,
   "id": "884f61e7-9fc0-46b8-8c04-d66f18e5a797",
   "metadata": {},
   "outputs": [],
   "source": []
  },
  {
   "cell_type": "code",
   "execution_count": null,
   "id": "035a7dfa-bcbc-42f8-9663-d73fc139a109",
   "metadata": {},
   "outputs": [],
   "source": []
  }
 ],
 "metadata": {
  "kernelspec": {
   "display_name": "Python 3 (ipykernel)",
   "language": "python",
   "name": "python3"
  },
  "language_info": {
   "codemirror_mode": {
    "name": "ipython",
    "version": 3
   },
   "file_extension": ".py",
   "mimetype": "text/x-python",
   "name": "python",
   "nbconvert_exporter": "python",
   "pygments_lexer": "ipython3",
   "version": "3.10.12"
  }
 },
 "nbformat": 4,
 "nbformat_minor": 5
}
