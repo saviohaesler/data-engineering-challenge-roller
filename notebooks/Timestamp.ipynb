{
 "cells": [
  {
   "cell_type": "markdown",
   "id": "3dc7f64a-3549-4f41-8667-9ebc920b48f8",
   "metadata": {},
   "source": [
    "# Timestamp Formats"
   ]
  },
  {
   "cell_type": "code",
   "execution_count": 1,
   "id": "c2ec3646-c66c-45e6-9a01-d598a4c9a8e7",
   "metadata": {},
   "outputs": [],
   "source": [
    "from datetime import date"
   ]
  },
  {
   "cell_type": "code",
   "execution_count": 2,
   "id": "48af1463-4955-40bb-bbf9-95e321e8baee",
   "metadata": {},
   "outputs": [
    {
     "data": {
      "text/plain": [
       "datetime.date(2024, 11, 30)"
      ]
     },
     "execution_count": 2,
     "metadata": {},
     "output_type": "execute_result"
    }
   ],
   "source": [
    "today = date.today()\n",
    "today"
   ]
  },
  {
   "cell_type": "code",
   "execution_count": 3,
   "id": "e176f8f5-5e1d-4015-8f8b-90e7ab602ac2",
   "metadata": {},
   "outputs": [
    {
     "name": "stdout",
     "output_type": "stream",
     "text": [
      "Today is 2024-11-30\n"
     ]
    }
   ],
   "source": [
    "print(f'Today is {today}')"
   ]
  },
  {
   "cell_type": "code",
   "execution_count": 4,
   "id": "2dd4f889-8399-46cc-970e-b6d9346e14f7",
   "metadata": {},
   "outputs": [
    {
     "name": "stdout",
     "output_type": "stream",
     "text": [
      "Today is 30.11.2024\n"
     ]
    }
   ],
   "source": [
    "print(f'Today is {today.strftime(\"%d.%m.%Y\")}')"
   ]
  },
  {
   "cell_type": "code",
   "execution_count": 5,
   "id": "e90a6a94-ca7a-42d7-99e8-ac264a6cde8e",
   "metadata": {},
   "outputs": [
    {
     "name": "stdout",
     "output_type": "stream",
     "text": [
      "Today is 30. November 2024\n"
     ]
    }
   ],
   "source": [
    "import locale\n",
    "locale.setlocale(locale.LC_TIME, 'en_US.UTF-8')\n",
    "print(f'Today is {today.strftime(\"%d. %B %Y\")}')"
   ]
  },
  {
   "cell_type": "code",
   "execution_count": 6,
   "id": "48f1aa89-8ac3-43e4-9770-c0be555f158e",
   "metadata": {},
   "outputs": [
    {
     "data": {
      "text/plain": [
       "'fr_CH.UTF-8'"
      ]
     },
     "execution_count": 6,
     "metadata": {},
     "output_type": "execute_result"
    }
   ],
   "source": [
    "locale.setlocale(locale.LC_TIME, 'fr_CH.UTF-8')"
   ]
  },
  {
   "cell_type": "code",
   "execution_count": 7,
   "id": "441ff28c-900e-493b-8ce1-49e90d6a4d07",
   "metadata": {},
   "outputs": [
    {
     "name": "stdout",
     "output_type": "stream",
     "text": [
      "C\n",
      "C.utf8\n",
      "de_CH\n",
      "de_CH.iso88591\n",
      "de_CH.utf8\n",
      "en_US.utf8\n",
      "fr_CH\n",
      "fr_CH.iso88591\n",
      "fr_CH.utf8\n",
      "POSIX\n"
     ]
    }
   ],
   "source": [
    "!locale -a"
   ]
  },
  {
   "cell_type": "code",
   "execution_count": 9,
   "id": "973b3fb3-7373-45e3-8a77-2308bcbe8275",
   "metadata": {},
   "outputs": [
    {
     "name": "stdout",
     "output_type": "stream",
     "text": [
      "LANG=en_US.UTF-8\n"
     ]
    }
   ],
   "source": [
    "!cat /etc/default/locale"
   ]
  },
  {
   "cell_type": "code",
   "execution_count": 16,
   "id": "b8749241-ce9d-4f99-ab30-aaed3a7981e8",
   "metadata": {},
   "outputs": [
    {
     "name": "stdout",
     "output_type": "stream",
     "text": [
      "Today is 30. novembre 2024\n"
     ]
    }
   ],
   "source": [
    "import locale\n",
    "locale.setlocale(locale.LC_TIME, 'fr_CH.UTF-8')\n",
    "print(f'Today is {today.strftime(\"%d. %B %Y\")}')"
   ]
  },
  {
   "cell_type": "code",
   "execution_count": null,
   "id": "5385622b-a7c8-4593-8e6f-57e18412e09d",
   "metadata": {},
   "outputs": [],
   "source": [
    "Timestamp = 1732113693869"
   ]
  },
  {
   "cell_type": "code",
   "execution_count": 17,
   "id": "95b86ca0-c58a-41f8-b67f-2de6fe0044c6",
   "metadata": {},
   "outputs": [
    {
     "ename": "ValueError",
     "evalue": "year 56858 is out of range",
     "output_type": "error",
     "traceback": [
      "\u001b[0;31m---------------------------------------------------------------------------\u001b[0m",
      "\u001b[0;31mValueError\u001b[0m                                Traceback (most recent call last)",
      "Cell \u001b[0;32mIn[17], line 3\u001b[0m\n\u001b[1;32m      1\u001b[0m \u001b[38;5;28;01mfrom\u001b[39;00m \u001b[38;5;21;01mdatetime\u001b[39;00m \u001b[38;5;28;01mimport\u001b[39;00m datetime\n\u001b[1;32m      2\u001b[0m unix_time \u001b[38;5;241m=\u001b[39m \u001b[38;5;241m1732113693869\u001b[39m\n\u001b[0;32m----> 3\u001b[0m unix_time_date \u001b[38;5;241m=\u001b[39m \u001b[43mdatetime\u001b[49m\u001b[38;5;241;43m.\u001b[39;49m\u001b[43mfromtimestamp\u001b[49m\u001b[43m(\u001b[49m\u001b[43munix_time\u001b[49m\u001b[43m)\u001b[49m\n\u001b[1;32m      4\u001b[0m \u001b[38;5;28mprint\u001b[39m(\u001b[38;5;124mf\u001b[39m\u001b[38;5;124m'\u001b[39m\u001b[38;5;124mUnix Time \u001b[39m\u001b[38;5;132;01m{\u001b[39;00munix_time\u001b[38;5;132;01m}\u001b[39;00m\u001b[38;5;124m corresponds to \u001b[39m\u001b[38;5;132;01m{\u001b[39;00munix_time_date\u001b[38;5;132;01m}\u001b[39;00m\u001b[38;5;124m'\u001b[39m)\n",
      "\u001b[0;31mValueError\u001b[0m: year 56858 is out of range"
     ]
    }
   ],
   "source": [
    "from datetime import datetime\n",
    "unix_time = 1732113693869\n",
    "unix_time_date = datetime.fromtimestamp(unix_time)\n",
    "print(f'Unix Time {unix_time} corresponds to {unix_time_date}')"
   ]
  },
  {
   "cell_type": "code",
   "execution_count": 18,
   "id": "e1dbcbf9-47ae-4724-a671-00b688fb05b9",
   "metadata": {},
   "outputs": [
    {
     "name": "stdout",
     "output_type": "stream",
     "text": [
      "Unix Time 1732113693869 corresponds to 2024-11-20 15:41:33.869000\n"
     ]
    }
   ],
   "source": [
    "from datetime import datetime\n",
    "unix_time = 1732113693869\n",
    "unix_time_date = datetime.fromtimestamp(unix_time/1000)\n",
    "print(f'Unix Time {unix_time} corresponds to {unix_time_date}')"
   ]
  },
  {
   "cell_type": "markdown",
   "id": "879796d7-df45-4438-bf5c-0819b5de879b",
   "metadata": {},
   "source": [
    "Olson Database:\n",
    "https://en.wikipedia.org/wiki/Tz_database"
   ]
  },
  {
   "cell_type": "code",
   "execution_count": 19,
   "id": "c9eb6abd-3f28-4438-8319-c8cf6017401b",
   "metadata": {},
   "outputs": [],
   "source": [
    "import pytz"
   ]
  },
  {
   "cell_type": "code",
   "execution_count": 20,
   "id": "b51eaa62-82f0-484c-ab5b-f25c2e57f336",
   "metadata": {},
   "outputs": [
    {
     "name": "stdout",
     "output_type": "stream",
     "text": [
      "2024-11-20 14:41:33+00:00\n",
      "2024-11-20 14:41:33 UTC+0000\n",
      "2024-11-20 15:41:33 CET+0100\n"
     ]
    }
   ],
   "source": [
    "my_datetime = datetime(2024, 11, 20, 14, 41, 33, tzinfo = pytz.utc)\n",
    "print(my_datetime)\n",
    "my_datetime_utc = my_datetime.strftime('%Y-%m-%d %H:%M:%S %Z%z')\n",
    "print(my_datetime_utc)\n",
    "my_datetime_cet = my_datetime.astimezone(pytz.timezone('Europe/Zurich')).strftime('%Y-%m-%d %H:%M:%S %Z%z')\n",
    "print(my_datetime_cet)"
   ]
  },
  {
   "cell_type": "code",
   "execution_count": null,
   "id": "77e0205c-24df-4896-a181-1ecb4a1b2142",
   "metadata": {},
   "outputs": [],
   "source": []
  }
 ],
 "metadata": {
  "kernelspec": {
   "display_name": "Python 3 (ipykernel)",
   "language": "python",
   "name": "python3"
  },
  "language_info": {
   "codemirror_mode": {
    "name": "ipython",
    "version": 3
   },
   "file_extension": ".py",
   "mimetype": "text/x-python",
   "name": "python",
   "nbconvert_exporter": "python",
   "pygments_lexer": "ipython3",
   "version": "3.10.12"
  }
 },
 "nbformat": 4,
 "nbformat_minor": 5
}
